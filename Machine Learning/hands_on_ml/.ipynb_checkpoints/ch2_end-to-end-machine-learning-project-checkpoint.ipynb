{
 "cells": [
  {
   "cell_type": "markdown",
   "metadata": {},
   "source": [
    "# Chapter 2: End-to-End Machine Learning Project\n",
    "\n",
    "As the title implies, this chapter walks us through a machine learning project from the start to finish. It's very nice in the sense that we get a feel of what a machine learning project in the real life (at least from the author's perspective) may look like, what we need to think about, and what steps we need to take.\n",
    "\n",
    "I'll be covering each section of the chapter briefly. It's rather long but shouldn't be too much if we keep it short and cover the main points.\n",
    "\n",
    "I'll keep an appendix of all of the mentioned Python commands/methods used with a link to the corresponding documentation."
   ]
  },
  {
   "cell_type": "markdown",
   "metadata": {},
   "source": [
    "## Table of Contents\n",
    "\n",
    "**1. Working with Real Data**\n",
    "\n",
    "**2. Look at the Big Picture**\n",
    "   1. Frame the Problem\n",
    "   2. Select a Performance Measure\n",
    "   3. Check the Assumptions\n",
    "   \n",
    "**3. Get the Data** $\\rightarrow$ _**code**_\n",
    "   1. Create the Workspace\n",
    "   2. Download the Data\n",
    "   3. Take a Quick Look at the Data Structure\n",
    "   4. Create a Test Set\n",
    "   \n",
    "**4. Discover and Visualize the Data to Gain Insights** $\\rightarrow$ _**code**_\n",
    "   1. Visualizing Geographical Data\n",
    "   2. Looking for Correlations\n",
    "   3. Experimenting with Attribute Combinations\n",
    "   \n",
    "**5. Prepare the Data for Machine Learning Algorithms** $\\rightarrow$ _**code**_\n",
    "   1. Data Cleaning\n",
    "   2. handling Text and Categorical Attributes\n",
    "   3. Custom Transformers\n",
    "   4. Feature Scaling\n",
    "   5. Transformation Pipelines\n",
    "   \n",
    "**6. Select and Train a Model** $\\rightarrow$ _**code**_\n",
    "   1. Training and Evaluating on the Training Set\n",
    "   2. Better Evaluation Using Cross-Validation\n",
    "   \n",
    "**7. Fine-Tune Your Model** $\\rightarrow$ _**code**_\n",
    "   1. Grid Search\n",
    "   2. Randomized Search\n",
    "   3. Ensemble Methods\n",
    "   4. Analyze the Best Methods and Their Erros\n",
    "   5. Evaluate Your System on the Test Set\n",
    "   \n",
    "**8. Launch, Monitor, and Maintain Your System**\n",
    "\n",
    "**9. Try It Out!**\n",
    "\n",
    "**10. Exercises**"
   ]
  },
  {
   "cell_type": "code",
   "execution_count": null,
   "metadata": {},
   "outputs": [],
   "source": []
  }
 ],
 "metadata": {
  "kernelspec": {
   "display_name": "Python 3",
   "language": "python",
   "name": "python3"
  },
  "language_info": {
   "codemirror_mode": {
    "name": "ipython",
    "version": 3
   },
   "file_extension": ".py",
   "mimetype": "text/x-python",
   "name": "python",
   "nbconvert_exporter": "python",
   "pygments_lexer": "ipython3",
   "version": "3.6.5"
  }
 },
 "nbformat": 4,
 "nbformat_minor": 2
}
